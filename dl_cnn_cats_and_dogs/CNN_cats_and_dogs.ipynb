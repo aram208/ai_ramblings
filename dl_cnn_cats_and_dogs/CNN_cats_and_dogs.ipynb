{
 "cells": [
  {
   "cell_type": "markdown",
   "metadata": {},
   "source": [
    "## Using CNNs to classify images\n",
    "\n",
    "### Prereqs\n",
    "\n",
    "1. Make sure to have <a href=\"https://www.tensorflow.org/install/\">Tensorflow</a> and <a href=\"https://keras.io/\">Keras</a> installed.\n",
    "\n",
    "2. Download the train.zip <a href=\"https://www.kaggle.com/c/dogs-vs-cats/data\">from here</a> (requires registration on Kaggle).\n",
    "\n",
    "3. Create the following folder structure as shown below:\n",
    "<br>`../dataset/train/cats\n",
    "../dataset/train/dogs\n",
    "../dataset/validate/cats\n",
    "../dataset/validate/dogs`\n",
    "\n",
    "4. Extract the train.zip and move 4K cats into the `train/cats` and 1K cats into the `validate/cats`. Do the same with the dogs. You should end up with 4K training images and 1K test images for each class respectively*. \n",
    "\n",
    "<div class=\"alert alert-block alert-info\">\n",
    "\\* _If you have enough patience, time and computing power you can use the full set, just make sure to use 80% of the images for training and 20% for testing_\n",
    "</div>"
   ]
  },
  {
   "cell_type": "markdown",
   "metadata": {},
   "source": [
    "### Architecture\n",
    "\n",
    "<img style=\"float: left;\" src=\"cnn_layers.png\"/>"
   ]
  },
  {
   "cell_type": "markdown",
   "metadata": {},
   "source": [
    "1. __Sequential__ - in Kears is basically a _list_ that holds the layers of our architecture.\n",
    "2. __Conv2D__ - 2D convolution layer (e.g. spatial convolution over images). This layer creates a convolution kernel that is convolved with the layer input to produce a tensor of outputs. \n",
    "3. __Max Pooling__ - After having the feature maps we need to further discretize our image to prepare for flattening.\n",
    "4. __Flattening__ - this is where we turn the max pool matrixes into 1D vecotrs in order to pass down to the hidden NN layer(s).\n",
    "5. __Dense (ReLU)__ - Hiddel NN layer with using rectifier activation.\n",
    "6. __Dense (Sigmoid)__ - Last NN layer (a.k.a output layer) with Sigmoid activator."
   ]
  },
  {
   "cell_type": "code",
   "execution_count": null,
   "metadata": {},
   "outputs": [],
   "source": [
    "# The imports\n",
    "from keras.models import Sequential\n",
    "from keras.layers import Conv2D, MaxPool2D\n",
    "from keras.layers import Flatten\n",
    "from keras.layers import Dense\n",
    "from keras.preprocessing.image import ImageDataGenerator"
   ]
  },
  {
   "cell_type": "code",
   "execution_count": null,
   "metadata": {},
   "outputs": [],
   "source": [
    "# Step1.  \n",
    "classifier = Sequential()"
   ]
  },
  {
   "cell_type": "code",
   "execution_count": null,
   "metadata": {},
   "outputs": [],
   "source": [
    "# Step 2 - Convolution Layer \n",
    "classifier.add(Conv2D(32, (3, 3), input_shape=(64, 64, 3), activation='relu'))"
   ]
  },
  {
   "cell_type": "markdown",
   "metadata": {},
   "source": [
    "Conv2D(32, (3, 3), input_shape=(64, 64, 3), activation='relu'))\n",
    "1. It is a common practice to start with 32 feature detecors.\n",
    "2. 3 x 3 - dimensions of the feature detector\n",
    "3. We need to convert all input images to have the same size (64, 64) and since we are working with color images than we need 3 channels. \n",
    "4. Rectifier activation function. (_The rectifier activator is used here to remove the negative pixel values from our feature maps. Not to confuse with the purpose of an activator in a neuron_). "
   ]
  },
  {
   "cell_type": "code",
   "execution_count": null,
   "metadata": {},
   "outputs": [],
   "source": [
    "# Step 3 - Max Pooling\n",
    "classifier.add(MaxPool2D(pool_size = (2, 2)))"
   ]
  },
  {
   "cell_type": "code",
   "execution_count": null,
   "metadata": {},
   "outputs": [],
   "source": [
    "# Step 4 - Flattening\n",
    "classifier.add(Flatten())"
   ]
  },
  {
   "cell_type": "code",
   "execution_count": null,
   "metadata": {},
   "outputs": [],
   "source": [
    "# Step 5 - The Neuron Layer\n",
    "classifier.add(Dense(units = 128, activation=\"relu\"))"
   ]
  },
  {
   "cell_type": "markdown",
   "metadata": {},
   "source": [
    "__Estimating the amount of units (neurons)__<br>\n",
    "As a general rule it is recommended to use a number between the amount of the inputs and the amount of the outputs. In our case, though, the amount of inputs is quite large (even after convoluting and max puuling) and the amount of output is just 2, so I just picked an average of whatever the numbers I saw in Keras samples :) (_It seems though as the numbers are in power of 2_). \n",
    "\n",
    "At some point I will try with 256 and see what happens. Higher number should lead to a greater accuracy, however it is more computationally intensive. \n",
    "\n",
    "<div class=\"alert alert-block alert-info\">\n",
    "For detailed explanation of the dim, shape and unit parameters see this SO: https://stackoverflow.com/questions/44747343/keras-input-explanation-input-shape-units-batch-size-dim-etc\n",
    "</div>"
   ]
  },
  {
   "cell_type": "code",
   "execution_count": null,
   "metadata": {},
   "outputs": [],
   "source": [
    "# Step 6 - Now let's add the output layer with the sigmoid function. \n",
    "# Note that for a binary classifier one unit is enough.\n",
    "classifier.add(Dense(activation=\"sigmoid\", units = 1))"
   ]
  },
  {
   "cell_type": "code",
   "execution_count": null,
   "metadata": {},
   "outputs": [],
   "source": [
    "# Step 7 - Compiling the whole thing using the stochastic gradient decent algorithm\n",
    "classifier.compile(optimizer = 'adam', loss = 'binary_crossentropy', metrics = ['accuracy'])"
   ]
  },
  {
   "cell_type": "markdown",
   "metadata": {},
   "source": [
    "<a href=\"https://machinelearningmastery.com/adam-optimization-algorithm-for-deep-learning/\">Great intro to Adaptive Moment Estimation optimizer (a.k.a ADAM)</a>"
   ]
  },
  {
   "cell_type": "code",
   "execution_count": null,
   "metadata": {},
   "outputs": [],
   "source": [
    "# Step 8 - Fitting (a.k.a training) \n",
    "# copied from Keras docs\n",
    "train_datagen = ImageDataGenerator(\n",
    "        rescale=1./255,\n",
    "        shear_range=0.2,\n",
    "        zoom_range=0.2,\n",
    "        horizontal_flip=True)\n",
    "\n",
    "test_datagen = ImageDataGenerator(rescale=1./255)\n",
    "\n",
    "training_set = train_datagen.flow_from_directory('dataset/training_set',\n",
    "                                                 target_size=(64, 64),\n",
    "                                                 batch_size=32,\n",
    "                                                 class_mode='binary')\n",
    "\n",
    "test_set = test_datagen.flow_from_directory('dataset/test_set',\n",
    "                                            target_size=(64, 64),\n",
    "                                            batch_size=32,\n",
    "                                            class_mode='binary')\n",
    "\n",
    "classifier.fit_generator(training_set,\n",
    "                        steps_per_epoch=4000, # since we have 8000 images\n",
    "                        epochs=25,\n",
    "                        validation_data=test_set,\n",
    "                        validation_steps=1000) # number of images in the test set"
   ]
  },
  {
   "cell_type": "markdown",
   "metadata": {},
   "source": [
    "### Saving the weights\n",
    "\n",
    "If you got this far with a decent accuracy (say 80% and higher) then save the model to use it later on."
   ]
  },
  {
   "cell_type": "code",
   "execution_count": null,
   "metadata": {},
   "outputs": [],
   "source": [
    "classifier.save('cats_and_dogs_model.h5')"
   ]
  },
  {
   "cell_type": "markdown",
   "metadata": {},
   "source": [
    "To load the weights and try them on your own pet images "
   ]
  },
  {
   "cell_type": "code",
   "execution_count": null,
   "metadata": {},
   "outputs": [],
   "source": [
    "import numpy as np\n",
    "from keras.preprocessingsing import image\n",
    "\n",
    "my_pet_image = image.load_img('path to your image')\n",
    "my_pet_image = image.img_to_array(my_pet_image)\n",
    "my_pet_image.expand_dims(test_image, axis = 0)\n",
    "result = classifier.predict(my_pet_image)\n",
    "\n",
    "# double check class indicies \n",
    "training_set.class_indices\n",
    "\n",
    "# correct the index for the 'dog' if necessary\n",
    "if result[0][0] == 1:\n",
    "    prediction = 'dog'\n",
    "else:\n",
    "    prediction = 'cat'\n",
    "    \n",
    "prediction"
   ]
  }
 ],
 "metadata": {
  "kernelspec": {
   "display_name": "Python 3",
   "language": "python",
   "name": "python3"
  },
  "language_info": {
   "codemirror_mode": {
    "name": "ipython",
    "version": 3
   },
   "file_extension": ".py",
   "mimetype": "text/x-python",
   "name": "python",
   "nbconvert_exporter": "python",
   "pygments_lexer": "ipython3",
   "version": "3.6.1"
  }
 },
 "nbformat": 4,
 "nbformat_minor": 2
}
