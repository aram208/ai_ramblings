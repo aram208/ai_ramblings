{
 "cells": [
  {
   "cell_type": "markdown",
   "metadata": {},
   "source": [
    "## Simple sentiment analysis of restaurant reviews using Gaussian Naive Bayes\n",
    "\n",
    "The included dataset is a tab delimited file containing reviews with corresponding lables (i.e. like/dislike)\n",
    "\n",
    "<table style=\"float:left\">\n",
    "    <th>Review</th><th>Like</th>\n",
    "    <tr><td>Wow ... loved this place.</td><td>1</td></tr>\n",
    "    <tr><td>Crust is not good.</td><td>0</td></tr>\n",
    "    <tr><td colspan=2>...</td></tr>\n",
    "</table>"
   ]
  },
  {
   "cell_type": "markdown",
   "metadata": {},
   "source": [
    "### Step 1 - Import the dataset\n",
    "(_pandas is a Python package providing fast, flexible, and expressive data structures designed to make working with “relational” or “labeled” data both easy and intuitive._)"
   ]
  },
  {
   "cell_type": "code",
   "execution_count": 4,
   "metadata": {},
   "outputs": [],
   "source": [
    "import pandas as pd\n",
    "# quoting=3 means to disregard the quotes\n",
    "dataset = pd.read_csv('Restaurant_Reviews.tsv', delimiter = '\\t', quoting = 3) "
   ]
  },
  {
   "cell_type": "markdown",
   "metadata": {},
   "source": [
    "at this point the _dataset_ is a DataFrame with 2 columns and 1000 records."
   ]
  },
  {
   "cell_type": "code",
   "execution_count": 9,
   "metadata": {},
   "outputs": [],
   "source": [
    "# make sure the data got imported properly. If all is good, you should see the output from the dataset.\n",
    "dataset"
   ]
  },
  {
   "cell_type": "markdown",
   "metadata": {},
   "source": [
    "### Step2 (Optional)\n",
    "If you want to test the model on your own reviews, add them to the [Restaurant_Reviews_TT.tsv], then import and concatenate with the original dataset. "
   ]
  },
  {
   "cell_type": "code",
   "execution_count": null,
   "metadata": {},
   "outputs": [],
   "source": [
    "# add my own dataset\n",
    "dataset_mine = pd.read_csv('Restaurant_Reviews_TT.tsv', delimiter = '\\t', quoting = 3)\n",
    "dataset = pd.concat([dataset, dataset_mine], ignore_index = True)"
   ]
  },
  {
   "cell_type": "markdown",
   "metadata": {},
   "source": [
    "### Step 3 - Data Preparation\n",
    "Before our dataset can be used for training, it has to be cleaned up. I.e. we need to:\n",
    "- Cleanup the numbers\n",
    "- Cleanup the punctuation \n",
    "- Remove the articles (a/an and the)\n",
    "- Leave only the words that are relevant. For example from the first revew  _\"Wow ... we loved this place.\"_ only the word **loved** is relevant.\n",
    "- Apply stemming\\* - i.e. ***loved*** and/or ***loving*** is the same as ***love*** so we only need one\n",
    "\n",
    "<font color=\"gray\">\\* <a href=\"http://www.nltk.org/howto/stem.html\">_Stemmers</a> remove morphological affixes from words, leaving only the word stem._</font>"
   ]
  },
  {
   "cell_type": "markdown",
   "metadata": {},
   "source": [
    "##### Import the stemmer from Natural Language Toolkit \n",
    "_(Note, you only need to do this once)_"
   ]
  },
  {
   "cell_type": "code",
   "execution_count": null,
   "metadata": {},
   "outputs": [],
   "source": [
    "# you need to do this only once\n",
    "import nltk\n",
    "nltk.download('stopwords')"
   ]
  },
  {
   "cell_type": "markdown",
   "metadata": {},
   "source": [
    "After the import you should end up with a folder somewhere on your file system as in the pic below.\n",
    "\n",
    "<img style=\"float: left;\" src=\"img/nltk.png\"/>"
   ]
  },
  {
   "cell_type": "markdown",
   "metadata": {},
   "source": [
    "Let's run the cleanup now and append the cleaned reviews to a list called 'corpus' _(in Natural Language Processing the word corpus is used a lot meaning 'a body of text')_."
   ]
  },
  {
   "cell_type": "markdown",
   "metadata": {},
   "source": [
    "import re\n",
    "from nltk.corpus import stopwords\n",
    "from nltk.stem.porter import PorterStemmer\n",
    "ps = PorterStemmer()\n",
    "corpus = []\n",
    "for i in range(0, 1000):\n",
    "    review = re.sub('[^a-zA-Z]', ' ', dataset['Review'][i]) # replace with space anything that's not a character\n",
    "    review = review.lower() # lowercase\n",
    "    review = review.split() # turn sentences into array of words\n",
    "    review = [ps.stem(word) for word in review if not word in set(stopwords.words('english'))]\n",
    "    review = ' '.join(review)\n",
    "    corpus.append(review)"
   ]
  },
  {
   "cell_type": "code",
   "execution_count": null,
   "metadata": {},
   "outputs": [],
   "source": [
    "# optionally run this cell to see how the cleaned up reviews look\n",
    "corpus"
   ]
  },
  {
   "cell_type": "markdown",
   "metadata": {},
   "source": [
    "### Step 4 - Creating the Bag of Words model (i.e. a sparse matrix)\n",
    "In this step we will create a, so called, Bag of Words model - a way of representing text data when modelling text with machine learning algorithms. \n",
    "\n",
    "In essense, we are creating a table where each column is going to represent a unique word from our dataset and each row representing a single review. Then, for each cell we will have 1 if that word appears in the review and 0 otherwise. As a result, we will end up with a _wide_ table (i.e. 1K+ columns) where most of the cells are going to be filled with zeroes, hence the term _sparse matrix_."
   ]
  },
  {
   "cell_type": "code",
   "execution_count": 10,
   "metadata": {},
   "outputs": [],
   "source": [
    "from sklearn.feature_extraction.text import CountVectorizer\n",
    "\n",
    "count_vectorizer = CountVectorizer(max_features = 1000)\n",
    "X = count_vectorizer.fit_transform(corpus).toarray()\n",
    "y = dataset.iloc[:, 1].values"
   ]
  },
  {
   "cell_type": "markdown",
   "metadata": {},
   "source": [
    "at this stage, **X** contains our sparse matrix while the **y** is essentially our second column from the datase (1s for likes and 0s for dislikes)."
   ]
  },
  {
   "cell_type": "code",
   "execution_count": 14,
   "metadata": {},
   "outputs": [],
   "source": [
    "# Optionally run this to see what's inside the var X \n",
    "X"
   ]
  },
  {
   "cell_type": "markdown",
   "metadata": {},
   "source": [
    "### Step 5 (mandatory only if you ran the optional Step 2, otherwise skip to the next step)\n",
    "\n",
    "_If you added your own reviews to the original dataset, make sure to remove them before the training. After running this step you will end up with the following variables:_\n",
    "- X_tt - custom reviews\n",
    "- y_tt - custom lables (i.e. your own rating)\n",
    "- X - original reviews\n",
    "- y - original labels"
   ]
  },
  {
   "cell_type": "code",
   "execution_count": null,
   "metadata": {},
   "outputs": [],
   "source": [
    "X_tt = X[1000 : 1002, :] # take the reviews from 1000 till 1002 (assuming you added 2 reviews to the original dataset)\n",
    "y_tt = y[1000:1002] # take the labels from 1000 till 1002 (assuming you added 2 reviews to the original dataset)\n",
    "X = X[0 : 1000, :] # take the original 1000 reviews only\n",
    "y = y[0:1000] # take the original 1000 labels only"
   ]
  },
  {
   "cell_type": "markdown",
   "metadata": {},
   "source": [
    "### Step 6 - Split the dataset into training and test sets\n",
    "We are using a 80/20 split. I.e. using 80% of the data for training and 20% for testing"
   ]
  },
  {
   "cell_type": "code",
   "execution_count": 15,
   "metadata": {},
   "outputs": [],
   "source": [
    "from sklearn.model_selection import train_test_split\n",
    "X_train, X_test, y_train, y_test = train_test_split(X, y, test_size = 0.20, random_state = 0)"
   ]
  },
  {
   "cell_type": "markdown",
   "metadata": {},
   "source": [
    "At this step we ended up with the following four variables\n",
    "- X_train - 80% of the original reviews that will be used for training\n",
    "- y_train - Corresponding labels (classes) of the reviews from X_train\n",
    "- X_test - 20% of the original reviews that will be used to assess the accuracy of the model\n",
    "- y_test - Corresponding labels (classes) of the reviews from X_test"
   ]
  },
  {
   "cell_type": "markdown",
   "metadata": {},
   "source": [
    "### Step 7 - Training !!!\n",
    "Generally speaking, training (a.k.a fitting) in Machine Learing means finding patterns in data. In our case the GaussianNB model is going to use the training data to _learn_ the combinations of words matching to likes or dislikes."
   ]
  },
  {
   "cell_type": "code",
   "execution_count": 16,
   "metadata": {},
   "outputs": [
    {
     "data": {
      "text/plain": [
       "GaussianNB(priors=None)"
      ]
     },
     "execution_count": 16,
     "metadata": {},
     "output_type": "execute_result"
    }
   ],
   "source": [
    "from sklearn.naive_bayes import GaussianNB\n",
    "classifier = GaussianNB()\n",
    "classifier.fit(X_train, y_train)"
   ]
  },
  {
   "cell_type": "markdown",
   "metadata": {},
   "source": [
    "### Step 8 Perdicting the test set\n",
    "Now that our model has been trained, let's use the remaining 20% of the reviews (i.e. the X_test) to predict the labels (raitings). We will then use these predictions to compare against the real raitings from the y_test."
   ]
  },
  {
   "cell_type": "code",
   "execution_count": 17,
   "metadata": {},
   "outputs": [],
   "source": [
    "# y_pred_tt = classifier.predict(X_tt) # uncomment this line to run the predictions on your custom reviews\n",
    "y_pred = classifier.predict(X_test)"
   ]
  },
  {
   "cell_type": "markdown",
   "metadata": {},
   "source": [
    "### Step 9 Assessing the accuracy of the model\n",
    "We have\n",
    "- y_pred - predictions\n",
    "- y_test - real data\n",
    "\n",
    "The way we assess the accuracy of our model is by creating a, so called, **Confusion Matrix**. In this case our CM is going to be a 2x2 table reflecting the numbers for the correct and incorrect predictions."
   ]
  },
  {
   "cell_type": "code",
   "execution_count": 18,
   "metadata": {},
   "outputs": [],
   "source": [
    "from sklearn.metrics import confusion_matrix\n",
    "cm = confusion_matrix(y_test, y_pred)\n",
    "# cm_tt = confusion_matrix(y_tt, y_pred_tt) # uncomment to create a CM on your custom reviews"
   ]
  },
  {
   "cell_type": "code",
   "execution_count": 20,
   "metadata": {},
   "outputs": [
    {
     "data": {
      "text/plain": [
       "array([[55, 42],\n",
       "       [12, 91]])"
      ]
     },
     "execution_count": 20,
     "metadata": {},
     "output_type": "execute_result"
    }
   ],
   "source": [
    "# run this to rpintout the content of the cm variable (or cm_tt)\n",
    "cm\n",
    "# cm_tt"
   ]
  },
  {
   "cell_type": "markdown",
   "metadata": {},
   "source": [
    "### Interpreting the Results:\n",
    "Assuming you used the same random seed in Step 6 (random_state = 0) your CM should look like follows:\n",
    "<table style=\"float:left\">\n",
    "    <th>&nbsp;</th><th>Likes</th><th>Dislikes</th>\n",
    "    <tr><td>Predicted Likes</td><td>**55**</td><td>42</td></tr>\n",
    "    <tr><td>Predicted Dislikes</td><td>12</td><td>**91**</td></tr>\n",
    "</table>"
   ]
  },
  {
   "cell_type": "markdown",
   "metadata": {},
   "source": [
    "The number 55 shows the amount of positive predictions (i.e. likes from y_pred) which matched the likes from the testing set (i.e. y_test). Likewise, the number 91 shows the amount of correctly predicted dislikes. You can guess what the numbers 12 and 42 indicate now.\n",
    "\n",
    "And so, our model made 146 correct predictions out of total 200 thus achiving the accuracy of 73%."
   ]
  },
  {
   "cell_type": "code",
   "execution_count": 24,
   "metadata": {},
   "outputs": [
    {
     "data": {
      "text/plain": [
       "0.73"
      ]
     },
     "execution_count": 24,
     "metadata": {},
     "output_type": "execute_result"
    }
   ],
   "source": [
    "(55 + 91)/(55 + 91 + 12 + 42)"
   ]
  },
  {
   "cell_type": "code",
   "execution_count": null,
   "metadata": {},
   "outputs": [],
   "source": []
  }
 ],
 "metadata": {
  "kernelspec": {
   "display_name": "Python 3",
   "language": "python",
   "name": "python3"
  },
  "language_info": {
   "codemirror_mode": {
    "name": "ipython",
    "version": 3
   },
   "file_extension": ".py",
   "mimetype": "text/x-python",
   "name": "python",
   "nbconvert_exporter": "python",
   "pygments_lexer": "ipython3",
   "version": "3.6.1"
  }
 },
 "nbformat": 4,
 "nbformat_minor": 2
}
