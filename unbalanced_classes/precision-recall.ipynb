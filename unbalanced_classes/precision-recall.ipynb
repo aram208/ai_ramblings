{
 "cells": [
  {
   "cell_type": "markdown",
   "metadata": {},
   "source": [
    " In Information Retrieval tasks with binary classification (relevant or not relevant), precision is the fraction of retrieved instances that are relevant, while recall is the fraction of relevant instances that are retrieved. \n",
    "\n",
    "__Precision-Recall__ is a useful measure of success of prediction when the classes are very imbalanced (_in other words, if we were to use a regular Confision Matrix then the amount of True Negatives would have been quite large thus overshadowing the other cases_).\n",
    "\n",
    "<div class=\"alert alert-block alert-info\">\n",
    "_Suppose a computer program for recognizing dogs in photographs identifies eight dogs in a picture containing 12 dogs and some cats. Of the eight dogs identified, five actually are dogs (true positives), while the rest are cats (false positives). The program's precision is 5/8 while its recall is 5/12._\n",
    "<br/>\n",
    "This pattern recognition example contained 8 − 5 = 3 type I errors and 12 − 5 = 7 type II errors. **Precision can be seen as a <u>measure of exactness or quality</u>, whereas recall is a <u>measure of completeness</u> or quantity.**\n",
    "</div>\n",
    "\n",
    "* __Precision__ (aka Positive Predictive Value)- a measure of result relevancy. $ P = \\frac{T_p}{T_p + F_p} $\n",
    "* __Recall__ (aka Sensitivity) - measure of how many truly relevant results are returne. $ R = \\frac{T_p}{T_p + F_n} $\n",
    "<p/>\n",
    "\n",
    "<img src=\"Precisionrecall.png\"/>\n",
    "\n",
    "* <font color=\"blue\">Low Precision | High Recall</font><br/>\n",
    "Returns many results, but most of its predicted labels are incorrect when compared to the training labels.\n",
    "* <font color=\"blue\">High Precision | Low Recall</font><br/>\n",
    "Returns few results, but most of its predictions are correct.\n",
    "* <font color=\"blue\">High Precision | High Recall</font><br/>\n",
    "Returns many results, with all results labeled correctly.\n",
    "\n",
    "__The precision-recall curve shows the tradeoff between precision and recall for different threshold.__<br/>\n",
    "A high area under the curve represents both high recall and high precision, where high precision relates to a low false positive rate, and high recall relates to low false negative rate.\n",
    "! High scores for both show that the classifier is returning accurate results (high orecision), as well as returning a majority of all positive results (high recall).\n",
    "\n"
   ]
  },
  {
   "cell_type": "markdown",
   "metadata": {},
   "source": [
    "## Practice on Iris Plants Dataset\n",
    "<img src=\"iris_dataset.png\"/>\n",
    "where target names are:<br>\n",
    "0 - setosa<br>\n",
    "1 - versicolor<br>\n",
    "2 - virginica"
   ]
  },
  {
   "cell_type": "code",
   "execution_count": 1,
   "metadata": {},
   "outputs": [],
   "source": [
    "from sklearn import svm, datasets\n",
    "from sklearn.model_selection import train_test_split\n",
    "import numpy as np\n",
    "\n",
    "iris = datasets.load_iris()\n",
    "X = iris.data\n",
    "y = iris.target"
   ]
  },
  {
   "cell_type": "markdown",
   "metadata": {},
   "source": [
    "At this stage the shape of X is (150, 4). I.e. we have 150 measurements (50 per each class) of 4 features: sepal length, sepal width, petal length, and petal width.\n",
    "\n",
    "Now, let's add more, randomly generated, features (aka noise)."
   ]
  },
  {
   "cell_type": "code",
   "execution_count": 7,
   "metadata": {},
   "outputs": [],
   "source": [
    "# Add noisy features\n",
    "random_state = np.random.RandomState(0)\n",
    "n_samples, n_features = X.shape # n_samples = 150, n_features = 4\n",
    "X = np.c_[X, random_state.randn(n_samples, 200 * n_features)]\n",
    "# X.shape = (150, 804)"
   ]
  },
  {
   "cell_type": "code",
   "execution_count": 9,
   "metadata": {},
   "outputs": [],
   "source": [
    "# Limit to the two first classes, and split into training and test\n",
    "X_train, X_test, y_train, y_test = train_test_split(X[y < 2], y[y < 2],\n",
    "                                                    test_size=.5,\n",
    "                                                    random_state=random_state)# Create a simple classifier"
   ]
  },
  {
   "cell_type": "code",
   "execution_count": 10,
   "metadata": {},
   "outputs": [],
   "source": [
    "# Create a simple classifier\n",
    "classifier = svm.LinearSVC(random_state=random_state)\n",
    "classifier.fit(X_train, y_train)\n",
    "y_score = classifier.decision_function(X_test)"
   ]
  },
  {
   "cell_type": "markdown",
   "metadata": {},
   "source": [
    "Now, let's calculate the average precision score"
   ]
  },
  {
   "cell_type": "code",
   "execution_count": 11,
   "metadata": {},
   "outputs": [
    {
     "name": "stdout",
     "output_type": "stream",
     "text": [
      "Average precision-recall score: 0.88\n"
     ]
    }
   ],
   "source": [
    "from sklearn.metrics import average_precision_score\n",
    "average_precision = average_precision_score(y_test, y_score)\n",
    "\n",
    "print('Average precision-recall score: {0:0.2f}'.format(average_precision))"
   ]
  },
  {
   "cell_type": "markdown",
   "metadata": {},
   "source": [
    "## Plot the Precision-Recall curve"
   ]
  },
  {
   "cell_type": "code",
   "execution_count": 14,
   "metadata": {},
   "outputs": [
    {
     "data": {
      "text/plain": [
       "<matplotlib.text.Text at 0x116450e80>"
      ]
     },
     "execution_count": 14,
     "metadata": {},
     "output_type": "execute_result"
    }
   ],
   "source": [
    "from sklearn.metrics import precision_recall_curve\n",
    "import matplotlib.pyplot as plt\n",
    "\n",
    "precision, recall, _ = precision_recall_curve(y_test, y_score)\n",
    "\n",
    "plt.step(recall, precision, color='b', alpha=0.2, where='post')\n",
    "plt.fill_between(recall, precision, step='post', alpha=0.2, color='b')\n",
    "\n",
    "plt.xlabel('Recall')\n",
    "plt.ylabel('Precision')\n",
    "plt.ylim([0.0, 1.05])\n",
    "plt.xlim([0.0, 1.0])\n",
    "plt.title('2-class Precision-Recall curve: AP={0:0.2f}'.format(average_precision))"
   ]
  },
  {
   "cell_type": "code",
   "execution_count": 15,
   "metadata": {},
   "outputs": [
    {
     "data": {
      "image/png": "[encoded data removed]",
      "text/plain": [
       "<matplotlib.figure.Figure at 0x11633f7f0>"
      ]
     },
     "metadata": {},
     "output_type": "display_data"
    }
   ],
   "source": [
    "plt.show()"
   ]
  },
  {
   "cell_type": "code",
   "execution_count": null,
   "metadata": {},
   "outputs": [],
   "source": []
  }
 ],
 "metadata": {
  "kernelspec": {
   "display_name": "Python 3",
   "language": "python",
   "name": "python3"
  },
  "language_info": {
   "codemirror_mode": {
    "name": "ipython",
    "version": 3
   },
   "file_extension": ".py",
   "mimetype": "text/x-python",
   "name": "python",
   "nbconvert_exporter": "python",
   "pygments_lexer": "ipython3",
   "version": "3.6.1"
  }
 },
 "nbformat": 4,
 "nbformat_minor": 2
}
